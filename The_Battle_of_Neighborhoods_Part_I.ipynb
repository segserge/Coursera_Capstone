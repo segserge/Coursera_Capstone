{
 "cells": [
  {
   "cell_type": "markdown",
   "metadata": {},
   "source": [
    "<h1><font color=\"blue\">Tropical Restaurant in Toronto</font></h1>"
   ]
  },
  {
   "cell_type": "markdown",
   "metadata": {},
   "source": [
    "This project is about evaluate the strengths and weaknesses of opening a tropical restaurant in Toronto."
   ]
  },
  {
   "cell_type": "markdown",
   "metadata": {},
   "source": [
    "## Introduction / Business Understanding"
   ]
  },
  {
   "cell_type": "markdown",
   "metadata": {},
   "source": [
    "### Situation description\n",
    "\n",
    "Noor is young African chef that is very passionate about cooking and gastronomy. After an holiday trip, 3 years ago, to visit a friend, he fell in love with Toronto and decided to settle over there and open a restaurant.\n",
    "\n",
    "Noor is interested in gastronomy from all over the world and enforced that interest by many internships in China, Mongolia, Thailand, Cambodge, Brazil, Bolivie, Peru and in many countries in Africa like Ivory Coast, Benin, Togo, Cameroon, Senegal, Bissau, Namibia, Ethiopia and Mozambique. His gastronomy's richness is for him, an element that will open his restaurant a path to success.\n",
    "\n",
    "After having closed each of the steps of his project, from gathering the funds to the obtention of the necessary permits, now comes the time where he has to decide where his restaurant will be settled.\n"
   ]
  },
  {
   "cell_type": "markdown",
   "metadata": {},
   "source": [
    "### Problem presentation \n",
    "\n",
    "\n",
    "In order to find the right place for his restaurant, Noor needs to be familiar with the city and its surroundings and has hints on the affordable trendings places available. As a newcomer, he's obviously unable to have these informations.\n",
    "\n",
    "However, despite not knowing very well the city, he knows the kinds of neighborhoods he's looking for in order to maximize his chances of making a positive impact of his customer base. Here are his criteria (in disorder) :\n",
    "<font color=\"blue\">\n",
    "- a venue in a cosmopilite surroundinds, where you can see people from several origins,\n",
    "- a venue not in a residential neighborhood, but close to a business place, to make it possible for customers to come lunch or order and be delivered in competitive durations,\n",
    "- a venue in a safe neighborhood,\n",
    "- a venue in a not too expensive borough,\n",
    "- a place where there can have safe night activities, especially in weekends. \n",
    "</font>\n",
    "\n",
    "The important question here is : what would be the adequate place for Noor to settle his restaurant and make an great first impression on his customer base?\n"
   ]
  },
  {
   "cell_type": "markdown",
   "metadata": {},
   "source": [
    "### Data needed description\n",
    "\n",
    "To solve Noor's problem, we will need to gather Toronto location data and put them in competition in order to fit the criteria he expoeses in the best way possible. \n",
    "\n",
    "__Foursquare__ appears to be an adequate tool to help in the resolution of our problem. In addition to this data, we will also need to have :\n",
    "- dataset of Toronto residential neighborhoods and their locations, if possible.\n",
    "- dataset of commercial housing prices in Toronto, if possible dispatched by neighborhoods.\n",
    "- dataset of crimes rates by neighborhoods in Toronto, if exists.\n",
    "\n"
   ]
  },
  {
   "cell_type": "markdown",
   "metadata": {},
   "source": [
    "First of all, we will study Downtown Toronto (DT). By using the ratings of the trending venues in DT, we will have a view of the number and the kind of people that appreciate thoses places. We will thus be able to answer the first criterion.\n",
    "\n",
    "We will then confront these places with the dataset of Toronto residential neighborhoods to help eliminate those that are in residential areas.\n",
    "\n",
    "Bu using the dataset of crimes rates by neighborhoods in Toronto, we will keep 10 neighborhoods with the lowest crimes rates and again confront them to the remaining list of venues we've got.\n",
    "\n",
    "Finally, we will add the prices of commercial housing in the actual list of venues and displays the more affordable ones.\n",
    "\n",
    "Thanks for reading."
   ]
  },
  {
   "cell_type": "code",
   "execution_count": null,
   "metadata": {},
   "outputs": [],
   "source": []
  }
 ],
 "metadata": {
  "kernelspec": {
   "display_name": "Python 3",
   "language": "python",
   "name": "python3"
  },
  "language_info": {
   "codemirror_mode": {
    "name": "ipython",
    "version": 3
   },
   "file_extension": ".py",
   "mimetype": "text/x-python",
   "name": "python",
   "nbconvert_exporter": "python",
   "pygments_lexer": "ipython3",
   "version": "3.7.4"
  }
 },
 "nbformat": 4,
 "nbformat_minor": 2
}
